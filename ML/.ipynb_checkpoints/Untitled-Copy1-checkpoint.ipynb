{
 "cells": [
  {
   "cell_type": "code",
   "execution_count": 1,
   "id": "7d9194d4",
   "metadata": {},
   "outputs": [
    {
     "name": "stderr",
     "output_type": "stream",
     "text": [
      "2024-02-15 09:54:35.205741: I tensorflow/core/util/port.cc:113] oneDNN custom operations are on. You may see slightly different numerical results due to floating-point round-off errors from different computation orders. To turn them off, set the environment variable `TF_ENABLE_ONEDNN_OPTS=0`.\n",
      "2024-02-15 09:54:35.209001: I external/local_tsl/tsl/cuda/cudart_stub.cc:31] Could not find cuda drivers on your machine, GPU will not be used.\n",
      "2024-02-15 09:54:35.241755: E external/local_xla/xla/stream_executor/cuda/cuda_dnn.cc:9261] Unable to register cuDNN factory: Attempting to register factory for plugin cuDNN when one has already been registered\n",
      "2024-02-15 09:54:35.241791: E external/local_xla/xla/stream_executor/cuda/cuda_fft.cc:607] Unable to register cuFFT factory: Attempting to register factory for plugin cuFFT when one has already been registered\n",
      "2024-02-15 09:54:35.242803: E external/local_xla/xla/stream_executor/cuda/cuda_blas.cc:1515] Unable to register cuBLAS factory: Attempting to register factory for plugin cuBLAS when one has already been registered\n",
      "2024-02-15 09:54:35.250295: I external/local_tsl/tsl/cuda/cudart_stub.cc:31] Could not find cuda drivers on your machine, GPU will not be used.\n",
      "2024-02-15 09:54:35.251222: I tensorflow/core/platform/cpu_feature_guard.cc:182] This TensorFlow binary is optimized to use available CPU instructions in performance-critical operations.\n",
      "To enable the following instructions: AVX2 AVX_VNNI FMA, in other operations, rebuild TensorFlow with the appropriate compiler flags.\n",
      "2024-02-15 09:54:36.042777: W tensorflow/compiler/tf2tensorrt/utils/py_utils.cc:38] TF-TRT Warning: Could not find TensorRT\n"
     ]
    }
   ],
   "source": [
    "import numpy as np\n",
    "import tensorflow as tf\n",
    "\n",
    "np.random.seed(10)\n",
    "tf.random.set_seed(10)\n",
    "\n",
    "import fileinput\n",
    "import matplotlib.pyplot as plt\n",
    "from sklearn import preprocessing\n",
    "from sklearn.model_selection import train_test_split\n",
    "from sklearn.pipeline import Pipeline\n",
    "from sklearn.preprocessing import MinMaxScaler\n",
    "from sklearn.preprocessing import StandardScaler\n",
    "import joblib\n",
    "\n",
    "# Build neural network\n",
    "from tensorflow.keras.layers import Input, Dense\n",
    "from tensorflow.keras import optimizers, models, regularizers\n",
    "from tensorflow.keras import backend as K\n",
    "from tensorflow.keras.callbacks import ModelCheckpoint, EarlyStopping, Callback\n",
    "from tensorflow.keras.models import load_model, Sequential, Model\n",
    "from tensorflow.keras.regularizers import l1\n"
   ]
  },
  {
   "cell_type": "code",
   "execution_count": 2,
   "id": "3ed08f7e",
   "metadata": {},
   "outputs": [],
   "source": [
    "training = False\n",
    "\n",
    "no_hidden_layers = 3\n",
    "activation_func = 'tanh'\n",
    "number_neurons = 50\n",
    "no_epochs = 300\n",
    "batch_sz = 4096\n",
    "val_split = 0.1"
   ]
  },
  {
   "cell_type": "code",
   "execution_count": 3,
   "id": "aff7c28b",
   "metadata": {},
   "outputs": [],
   "source": [
    "add = \"\""
   ]
  },
  {
   "cell_type": "code",
   "execution_count": 4,
   "id": "8de5ebd7",
   "metadata": {},
   "outputs": [],
   "source": [
    "input_data = np.load(add+'All_input_data.npy')\n",
    "output_data = np.load(add+'All_output_data.npy')"
   ]
  },
  {
   "cell_type": "code",
   "execution_count": 5,
   "id": "1153ebf2",
   "metadata": {},
   "outputs": [],
   "source": [
    "num_data_points = np.shape(input_data)[0]\n",
    "num_inputs = np.shape(input_data)[1]\n",
    "num_outputs = np.shape(output_data)[1]"
   ]
  },
  {
   "cell_type": "code",
   "execution_count": 6,
   "id": "4244f9ae",
   "metadata": {},
   "outputs": [],
   "source": [
    "def new_r2(y_true, y_pred):\n",
    "    SS_res = K.sum(K.square(y_true - y_pred), axis=0)\n",
    "    SS_tot = K.sum(K.square(y_true - K.mean(y_true, axis=0)), axis=0)\n",
    "    output_scores =  1 - SS_res / (SS_tot + K.epsilon())\n",
    "    r2 = K.mean(output_scores)\n",
    "    return r2"
   ]
  },
  {
   "cell_type": "code",
   "execution_count": 7,
   "id": "04ea2659",
   "metadata": {},
   "outputs": [],
   "source": [
    "num_outputs_model = 1"
   ]
  },
  {
   "cell_type": "code",
   "execution_count": 8,
   "id": "f4e4fc0a",
   "metadata": {},
   "outputs": [],
   "source": [
    "field_input = Input(shape=(num_inputs,),name='inputs')\n",
    "hidden_layer_1 = Dense(num_inputs,activation='swish')(field_input)\n",
    "hidden_layer_1 = Dense(60,activation='swish')(hidden_layer_1)\n",
    "hidden_layer_1 = Dense(70,activation='relu')(hidden_layer_1)\n",
    "hidden_layer_1 = Dense(80,activation='relu')(hidden_layer_1)\n",
    "hidden_layer_1 = Dense(100,activation='tanh')(hidden_layer_1)\n",
    "hidden_layer_1 = Dense(90,activation='relu')(hidden_layer_1)\n",
    "hidden_layer_1 = Dense(80,activation='relu')(hidden_layer_1)\n",
    "hidden_layer_1 = Dense(70,activation='swish')(hidden_layer_1)\n",
    "hidden_layer_1 = Dense(60,activation='swish')(hidden_layer_1)\n",
    "hidden_layer_1 = Dense(50,activation='swish')(hidden_layer_1)\n",
    "hidden_layer_1 = Dense(40,activation='swish')(hidden_layer_1)\n",
    "hidden_layer_1 = Dense(30,activation='swish')(hidden_layer_1)\n",
    "hidden_layer_1 = Dense(20,activation='swish')(hidden_layer_1)\n",
    "hidden_layer_1 = Dense(10,activation='swish')(hidden_layer_1)\n",
    "hidden_layer_1 = Dense(5,activation='swish')(hidden_layer_1)\n",
    "hidden_layer_1 = Dense(1,activation='tanh')(hidden_layer_1)\n",
    "outputs = Dense(num_outputs_model,name='outputs')(hidden_layer_1)\n",
    "model = Model(inputs=[field_input],outputs=[outputs]) "
   ]
  },
  {
   "cell_type": "code",
   "execution_count": 9,
   "id": "41438d1c",
   "metadata": {},
   "outputs": [],
   "source": [
    "my_adam = optimizers.Adam(learning_rate=0.001)"
   ]
  },
  {
   "cell_type": "code",
   "execution_count": 10,
   "id": "cc8634e5",
   "metadata": {},
   "outputs": [],
   "source": [
    "model.compile(optimizer=my_adam,\n",
    "          loss={'outputs': tf.keras.losses.Huber()},\n",
    "          loss_weights=[1.0], metrics=[new_r2])"
   ]
  },
  {
   "cell_type": "code",
   "execution_count": 11,
   "id": "acdcf913",
   "metadata": {},
   "outputs": [],
   "source": [
    "quad_node = 0"
   ]
  },
  {
   "cell_type": "code",
   "execution_count": 12,
   "id": "8f793b46",
   "metadata": {},
   "outputs": [],
   "source": [
    "weights_filepath = f'quad_node_{quad_node}_best_weights.h5'\n",
    "checkpoint = ModelCheckpoint(weights_filepath, monitor='val_loss', verbose=1, save_best_only=True, mode='min',save_weights_only=True)\n",
    "earlystopping = EarlyStopping(monitor='val_loss', min_delta=0, patience=100, verbose=0, mode='auto', baseline=None, restore_best_weights=False)\n",
    "callbacks_list = [checkpoint,earlystopping]"
   ]
  },
  {
   "cell_type": "code",
   "execution_count": 13,
   "id": "49e626eb",
   "metadata": {},
   "outputs": [
    {
     "data": {
      "text/plain": [
       "(2720000, 49)"
      ]
     },
     "execution_count": 13,
     "metadata": {},
     "output_type": "execute_result"
    }
   ],
   "source": [
    "output_data.shape"
   ]
  },
  {
   "cell_type": "code",
   "execution_count": 14,
   "id": "372923ad",
   "metadata": {},
   "outputs": [
    {
     "data": {
      "text/plain": [
       "(2720000,)"
      ]
     },
     "execution_count": 14,
     "metadata": {},
     "output_type": "execute_result"
    }
   ],
   "source": [
    "output_data[:,quad_node].shape"
   ]
  },
  {
   "cell_type": "code",
   "execution_count": 15,
   "id": "5343ae73",
   "metadata": {},
   "outputs": [
    {
     "name": "stderr",
     "output_type": "stream",
     "text": [
      "/home/kunalghosh/anaconda3/lib/python3.11/site-packages/sklearn/preprocessing/_data.py:979: RuntimeWarning: invalid value encountered in sqrt\n",
      "  np.sqrt(self.var_), copy=False, constant_mask=constant_mask\n"
     ]
    },
    {
     "data": {
      "text/plain": [
       "['ip_scaler.save']"
      ]
     },
     "execution_count": 15,
     "metadata": {},
     "output_type": "execute_result"
    }
   ],
   "source": [
    "preproc_input = Pipeline([('stdscaler', StandardScaler()),('minmaxscaler', MinMaxScaler())])\n",
    "input_data = preproc_input.fit_transform(input_data)\n",
    "scaler_filename = add+\"ip_scaler.save\"\n",
    "joblib.dump(preproc_input, scaler_filename)"
   ]
  },
  {
   "cell_type": "code",
   "execution_count": 16,
   "id": "04a867a6",
   "metadata": {},
   "outputs": [],
   "source": [
    "# KUNAL\n",
    "# removing the inf values:\n",
    "inf_index = np.argwhere(np.isinf(output_data))\n",
    "output_data = np.delete(output_data,inf_index,axis=0)\n",
    "input_data = np.delete(input_data,inf_index,axis=0)\n",
    "# ends here"
   ]
  },
  {
   "cell_type": "code",
   "execution_count": 17,
   "id": "4e5b848a",
   "metadata": {},
   "outputs": [],
   "source": [
    "output_data_quad_node = output_data[:,quad_node]"
   ]
  },
  {
   "cell_type": "code",
   "execution_count": 18,
   "id": "1c96cbc4",
   "metadata": {},
   "outputs": [
    {
     "data": {
      "text/plain": [
       "['op_scaler.save']"
      ]
     },
     "execution_count": 18,
     "metadata": {},
     "output_type": "execute_result"
    }
   ],
   "source": [
    "preproc_output = Pipeline([('stdscaler', StandardScaler()),('minmaxscaler', MinMaxScaler())])\n",
    "output_data_quad_node = preproc_output.fit_transform(output_data_quad_node.reshape(-1, 1))\n",
    "scaler_filename = add+\"op_scaler.save\"\n",
    "joblib.dump(preproc_output, scaler_filename)"
   ]
  },
  {
   "cell_type": "code",
   "execution_count": null,
   "id": "f5a98a7e",
   "metadata": {
    "scrolled": false
   },
   "outputs": [
    {
     "name": "stdout",
     "output_type": "stream",
     "text": [
      "Epoch 1/300\n",
      "595/598 [============================>.] - ETA: 0s - loss: 0.0302 - new_r2: -9.4998\n",
      "Epoch 1: val_loss improved from inf to 0.00334, saving model to quad_node_0_best_weights.h5\n",
      "598/598 [==============================] - 11s 15ms/step - loss: 0.0301 - new_r2: -9.4522 - val_loss: 0.0033 - val_new_r2: -0.0603\n",
      "Epoch 2/300\n",
      "597/598 [============================>.] - ETA: 0s - loss: 0.0029 - new_r2: -7.9579e-04\n",
      "Epoch 2: val_loss improved from 0.00334 to 0.00332, saving model to quad_node_0_best_weights.h5\n",
      "598/598 [==============================] - 9s 14ms/step - loss: 0.0029 - new_r2: -7.9486e-04 - val_loss: 0.0033 - val_new_r2: -0.0412\n",
      "Epoch 3/300\n",
      "593/598 [============================>.] - ETA: 0s - loss: 0.0029 - new_r2: -2.4414e-04\n",
      "Epoch 3: val_loss did not improve from 0.00332\n",
      "598/598 [==============================] - 9s 15ms/step - loss: 0.0029 - new_r2: -2.4528e-04 - val_loss: 0.0033 - val_new_r2: -0.0414\n",
      "Epoch 4/300\n",
      "595/598 [============================>.] - ETA: 0s - loss: 0.0029 - new_r2: -2.3939e-04\n",
      "Epoch 4: val_loss did not improve from 0.00332\n",
      "598/598 [==============================] - 9s 14ms/step - loss: 0.0029 - new_r2: -2.4326e-04 - val_loss: 0.0033 - val_new_r2: -0.0412\n",
      "Epoch 5/300\n",
      "597/598 [============================>.] - ETA: 0s - loss: 0.0029 - new_r2: -2.5304e-04\n",
      "Epoch 5: val_loss did not improve from 0.00332\n",
      "598/598 [==============================] - 9s 15ms/step - loss: 0.0029 - new_r2: -2.5393e-04 - val_loss: 0.0033 - val_new_r2: -0.0413\n",
      "Epoch 6/300\n",
      "595/598 [============================>.] - ETA: 0s - loss: 0.0029 - new_r2: -2.8726e-04\n",
      "Epoch 6: val_loss did not improve from 0.00332\n",
      "598/598 [==============================] - 9s 15ms/step - loss: 0.0029 - new_r2: -2.8732e-04 - val_loss: 0.0033 - val_new_r2: -0.0412\n",
      "Epoch 7/300\n",
      "595/598 [============================>.] - ETA: 0s - loss: 0.0029 - new_r2: -2.5494e-04\n",
      "Epoch 7: val_loss did not improve from 0.00332\n",
      "598/598 [==============================] - 9s 15ms/step - loss: 0.0029 - new_r2: -2.5755e-04 - val_loss: 0.0033 - val_new_r2: -0.0415\n",
      "Epoch 8/300\n",
      "121/598 [=====>........................] - ETA: 6s - loss: 0.0029 - new_r2: -3.0287e-04"
     ]
    }
   ],
   "source": [
    "model.fit(x=input_data,y=output_data_quad_node,\n",
    "          epochs=no_epochs,\n",
    "          batch_size=batch_sz,validation_split=val_split,callbacks=callbacks_list)"
   ]
  },
  {
   "cell_type": "code",
   "execution_count": null,
   "id": "c2ec566d",
   "metadata": {},
   "outputs": [],
   "source": []
  }
 ],
 "metadata": {
  "kernelspec": {
   "display_name": "Python 3 (ipykernel)",
   "language": "python",
   "name": "python3"
  },
  "language_info": {
   "codemirror_mode": {
    "name": "ipython",
    "version": 3
   },
   "file_extension": ".py",
   "mimetype": "text/x-python",
   "name": "python",
   "nbconvert_exporter": "python",
   "pygments_lexer": "ipython3",
   "version": "3.11.5"
  }
 },
 "nbformat": 4,
 "nbformat_minor": 5
}
